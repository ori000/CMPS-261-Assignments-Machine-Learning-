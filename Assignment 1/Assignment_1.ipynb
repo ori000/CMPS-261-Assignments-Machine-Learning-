{
 "cells": [
  {
   "cell_type": "markdown",
   "metadata": {
    "id": "uf8zksoawaHq"
   },
   "source": [
    "## Assignment 1: Customer's Shopping Data\n",
    "\n",
    "The goal of this assignment is to develop machine learning models that can predict the spending behavior of customers in a shop based on their characteristics. This prediction can help the shop in targeting its customers with customized strategies based on their spending behaviors, thus increasing its profits. Towards this goal, you should load the customer’s dataset attached to this assignment, develop linear and logistic regression models for spending predictions, and finally evaluate the performance of your trained models on test data.\n",
    "\n",
    "*Note: Please include comments to your code so it can be easily followed and understood.*"
   ]
  },
  {
   "cell_type": "markdown",
   "metadata": {
    "id": "oxFKBF_4xByj"
   },
   "source": [
    "### Loading the Data\n",
    "\n",
    "The customer’s shopping dataset is split into training and testing data.  The training data will be used to build the linear and logistic regression models, and the test data will be used to evaluate their performance in customer’s spending predictions.\n"
   ]
  },
  {
   "cell_type": "markdown",
   "metadata": {
    "id": "E7PmButs0TOj"
   },
   "source": [
    "Importing the necessary python libraries to load the data."
   ]
  },
  {
   "cell_type": "code",
   "execution_count": 1,
   "metadata": {
    "id": "tg2D2bbw0c5c"
   },
   "outputs": [],
   "source": [
    "#import libraries\n",
    "import pandas as pd"
   ]
  },
  {
   "cell_type": "code",
   "execution_count": 2,
   "metadata": {
    "id": "9s0DbkyuxivW"
   },
   "outputs": [],
   "source": [
    "#Load the train_data.csv file in python, and assign it to a variable named \"train\".\n",
    "train = pd.read_csv('./train_data.csv')"
   ]
  },
  {
   "cell_type": "code",
   "execution_count": 3,
   "metadata": {
    "id": "8e-9xhC4xxDp"
   },
   "outputs": [],
   "source": [
    "#Load the test_data.csv file in python, and assign it to a variable named \"test\".\n",
    "test = pd.read_csv('./test_data.csv')"
   ]
  },
  {
   "cell_type": "code",
   "execution_count": 4,
   "metadata": {},
   "outputs": [],
   "source": [
    "# Encode 'Gender' and 'Profession' using pd.get_dummies\n",
    "train = pd.get_dummies(train, columns=['Gender', 'Profession'])\n",
    "test = pd.get_dummies(test, columns=['Gender', 'Profession'])\n",
    "test= test.reindex(columns=train.columns, fill_value=0)"
   ]
  },
  {
   "cell_type": "markdown",
   "metadata": {
    "id": "_7e70o39x6h4"
   },
   "source": [
    "### Linear Regression\n",
    "\n",
    "In this section, you will train a linear regression model to predict the spending score of the customers in the shop. You should use the “Spending Score” column as the target variable and all the remaining columns as the independent variables (i.e., features).\n",
    "\n",
    "*Note: Make sure to exclude the “Spending Category” column in this section of the assignment, given that it is derived from the “Spending Score” column (i.e., to avoid data leakage).*\n",
    "\n"
   ]
  },
  {
   "cell_type": "markdown",
   "metadata": {
    "id": "6UiL-74i04Hq"
   },
   "source": [
    "Importing the necessary python libraries to call the linear regression model and the MSE metric."
   ]
  },
  {
   "cell_type": "code",
   "execution_count": 6,
   "metadata": {
    "id": "f2VvRdAQ1KRv"
   },
   "outputs": [],
   "source": [
    "#import libraries\n",
    "import sklearn\n",
    "from sklearn.linear_model import LinearRegression\n",
    "from sklearn.metrics import mean_squared_error"
   ]
  },
  {
   "cell_type": "markdown",
   "metadata": {
    "id": "OSI8hHVD1nNr"
   },
   "source": [
    "Dropping the \"Spending Category\" column from the training and testing data."
   ]
  },
  {
   "cell_type": "code",
   "execution_count": 7,
   "metadata": {
    "id": "OKIyS0nl1mI6"
   },
   "outputs": [],
   "source": [
    "#Drop Spending Category column\n",
    "linear_reg_train = train.drop(columns=\"Spending Category\")\n",
    "linear_reg_test = test.drop(columns=\"Spending Category\")"
   ]
  },
  {
   "cell_type": "markdown",
   "metadata": {
    "id": "6QoVhE8l28rT"
   },
   "source": [
    "In the remaining part of this section, you should use the linear_reg_train and linear_reg_test dataframes instead of the train and test dataframes."
   ]
  },
  {
   "cell_type": "code",
   "execution_count": 10,
   "metadata": {
    "id": "hFNyG1NPyFCE"
   },
   "outputs": [],
   "source": [
    "#Train a linear regression model to predict the spending score of a customer\n",
    "#You should use default values for all parameters\n",
    "\n",
    "# Separate target values for training\n",
    "target_values_train = linear_reg_train.pop(\"Spending Score\")\n",
    "\n",
    "# Create and train the Linear Regression model\n",
    "model = LinearRegression()\n",
    "model.fit(linear_reg_train, target_values_train)\n",
    "\n",
    "# Separate target values for testing\n",
    "target_values_test = linear_reg_test.pop(\"Spending Score\")"
   ]
  },
  {
   "cell_type": "code",
   "execution_count": 11,
   "metadata": {
    "id": "4Hg-rV-ryGv2"
   },
   "outputs": [
    {
     "name": "stdout",
     "output_type": "stream",
     "text": [
      "MSE: 780.7824887124046\n"
     ]
    }
   ],
   "source": [
    "#Compute the MSE metric to evaluate the trained model using the test data\n",
    "\n",
    "# Predict on test data\n",
    "linear_reg_test_predict = model.predict(linear_reg_test)\n",
    "\n",
    "# Compute MSE using actual target values of test data and predicted values\n",
    "mse = mean_squared_error(target_values_test, linear_reg_test_predict)\n",
    "print('MSE:', mse)"
   ]
  },
  {
   "cell_type": "markdown",
   "metadata": {
    "id": "ZmFM96YyydrM"
   },
   "source": [
    "### Logistic Regression\n",
    "\n",
    "In this section, you will train a logistic regression model to predict the spending category of a customer in the shop, as either High or Low.  The target variable will be the “Spending Category” column, and all the remaining columns will be the independent variables.\n",
    "\n",
    "*Note: Don’t use the “Spending Score” column in this section of the assignment, given that “Spending Category” column is derived from it.*\n",
    "\n",
    "\n"
   ]
  },
  {
   "cell_type": "markdown",
   "metadata": {
    "id": "rHGjwLAh1Ri8"
   },
   "source": [
    "Importing the necessary python libraries to call the logistic regression model and the Accuracy metric.\n",
    "\n"
   ]
  },
  {
   "cell_type": "code",
   "execution_count": 12,
   "metadata": {
    "id": "MVNWPxZq1SEi"
   },
   "outputs": [],
   "source": [
    "#import libraries\n",
    "from sklearn.linear_model import LogisticRegression\n",
    "from sklearn.metrics import accuracy_score"
   ]
  },
  {
   "cell_type": "markdown",
   "metadata": {
    "id": "BLKD7o2N2NoJ"
   },
   "source": [
    "Dropping the Spending Score column from the training and testing data."
   ]
  },
  {
   "cell_type": "code",
   "execution_count": 13,
   "metadata": {
    "id": "Xh31WhiI2S2o"
   },
   "outputs": [],
   "source": [
    "#Drop Spending Score column\n",
    "logistic_reg_train = train.drop(columns=\"Spending Score\")\n",
    "logistic_reg_test = test.drop(columns=\"Spending Score\")"
   ]
  },
  {
   "cell_type": "markdown",
   "metadata": {
    "id": "Xy0rr_J62sEV"
   },
   "source": [
    "In the remaining part of this section, you should use the logistic_reg_train and logistic_reg_test dataframes instead of the train and test dataframes."
   ]
  },
  {
   "cell_type": "code",
   "execution_count": 14,
   "metadata": {
    "id": "KHCsqOR1ydrN"
   },
   "outputs": [],
   "source": [
    "#Train a logistic regression model to predict the spending category of a customer\n",
    "#You should use default values for all parameters\n",
    "\n",
    "# Separate target values and features for training\n",
    "target_values_train = logistic_reg_train.pop(\"Spending Category\")\n",
    "\n",
    "# Create and train the Logistic Regression model\n",
    "logistic_model = LogisticRegression()\n",
    "logistic_model.fit(logistic_reg_train, target_values_train)\n",
    "\n",
    "# Prepare test data by separating target values\n",
    "target_values_test = logistic_reg_test.pop(\"Spending Category\")\n",
    "\n",
    "# Predict on test data\n",
    "logistic_reg_test_predict = logistic_model.predict(logistic_reg_test)"
   ]
  },
  {
   "cell_type": "code",
   "execution_count": 15,
   "metadata": {
    "id": "_O8xmXhvydrN"
   },
   "outputs": [
    {
     "name": "stdout",
     "output_type": "stream",
     "text": [
      "Accuracy: 0.455470737913486\n"
     ]
    }
   ],
   "source": [
    "#Compute the Accuracy metric to evaluate trained model on the test data\n",
    "\n",
    "# Compute Accuracy using actual target values of test data and predicted values\n",
    "accuracy = accuracy_score(target_values_test, logistic_reg_test_predict)\n",
    "print('Accuracy:', accuracy)"
   ]
  }
 ],
 "metadata": {
  "colab": {
   "provenance": []
  },
  "kernelspec": {
   "display_name": "Python 3 (ipykernel)",
   "language": "python",
   "name": "python3"
  },
  "language_info": {
   "codemirror_mode": {
    "name": "ipython",
    "version": 3
   },
   "file_extension": ".py",
   "mimetype": "text/x-python",
   "name": "python",
   "nbconvert_exporter": "python",
   "pygments_lexer": "ipython3",
   "version": "3.10.5"
  }
 },
 "nbformat": 4,
 "nbformat_minor": 1
}
