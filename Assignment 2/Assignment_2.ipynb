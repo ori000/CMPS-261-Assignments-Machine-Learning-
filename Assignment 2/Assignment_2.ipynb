{
 "cells": [
  {
   "cell_type": "markdown",
   "metadata": {
    "id": "uf8zksoawaHq"
   },
   "source": [
    "## Assignment 2: Sentiment Analysis\n",
    "\n",
    "The goal of this assignment is to train a machine learning model that can predict the sentiment of short statements as either negative, positive or neutral. To train your model, split the attached training data into training, validation and test sets, and train a multi-class logistic regression classifier using the training data. Tune the hyperparameters of the model using the validation set, and finally once all the hyperparameters are tuned and you selected your best model, test it on the test data and report its performance using the different metrics used for evaluating multi-class classifiers.\n",
    "\n",
    "*Note: Please include comments to your code so it can be easily followed and understood.*"
   ]
  },
  {
   "cell_type": "markdown",
   "metadata": {
    "id": "oxFKBF_4xByj"
   },
   "source": [
    "### Loading the data\n"
   ]
  },
  {
   "cell_type": "markdown",
   "metadata": {
    "id": "E7PmButs0TOj"
   },
   "source": [
    "Load the data.csv file"
   ]
  },
  {
   "cell_type": "code",
   "execution_count": 1,
   "metadata": {
    "id": "tg2D2bbw0c5c"
   },
   "outputs": [],
   "source": [
    "# import libraries\n",
    "import pandas as pd\n",
    "import numpy as np\n",
    "import sklearn\n",
    "from sklearn.model_selection import train_test_split\n",
    "from sklearn.feature_extraction.text import TfidfVectorizer\n",
    "from sklearn.linear_model import LogisticRegression\n",
    "import matplotlib.pyplot as plt\n",
    "from sklearn.model_selection import learning_curve, GridSearchCV\n",
    "from sklearn.metrics import accuracy_score, precision_score, recall_score, f1_score, confusion_matrix\n",
    "import nltk\n",
    "from nltk.corpus import stopwords\n",
    "from nltk.stem import PorterStemmer\n",
    "import re"
   ]
  },
  {
   "cell_type": "code",
   "execution_count": 2,
   "metadata": {
    "id": "9s0DbkyuxivW"
   },
   "outputs": [],
   "source": [
    "# load the data.csv file on moodle\n",
    "df = pd.read_csv('./data.csv')"
   ]
  },
  {
   "cell_type": "code",
   "execution_count": 3,
   "metadata": {
    "id": "8e-9xhC4xxDp"
   },
   "outputs": [
    {
     "data": {
      "text/html": [
       "<div>\n",
       "<style scoped>\n",
       "    .dataframe tbody tr th:only-of-type {\n",
       "        vertical-align: middle;\n",
       "    }\n",
       "\n",
       "    .dataframe tbody tr th {\n",
       "        vertical-align: top;\n",
       "    }\n",
       "\n",
       "    .dataframe thead th {\n",
       "        text-align: right;\n",
       "    }\n",
       "</style>\n",
       "<table border=\"1\" class=\"dataframe\">\n",
       "  <thead>\n",
       "    <tr style=\"text-align: right;\">\n",
       "      <th></th>\n",
       "      <th>text</th>\n",
       "      <th>sentiment</th>\n",
       "    </tr>\n",
       "  </thead>\n",
       "  <tbody>\n",
       "    <tr>\n",
       "      <th>0</th>\n",
       "      <td>Enjoying a beautiful day at the park!        ...</td>\n",
       "      <td>Positive</td>\n",
       "    </tr>\n",
       "    <tr>\n",
       "      <th>1</th>\n",
       "      <td>Traffic was terrible this morning.           ...</td>\n",
       "      <td>Negative</td>\n",
       "    </tr>\n",
       "    <tr>\n",
       "      <th>2</th>\n",
       "      <td>Just finished an amazing workout! 💪          ...</td>\n",
       "      <td>Positive</td>\n",
       "    </tr>\n",
       "    <tr>\n",
       "      <th>3</th>\n",
       "      <td>Excited about the upcoming weekend getaway!  ...</td>\n",
       "      <td>Positive</td>\n",
       "    </tr>\n",
       "    <tr>\n",
       "      <th>4</th>\n",
       "      <td>Trying out a new recipe for dinner tonight.  ...</td>\n",
       "      <td>Neutral</td>\n",
       "    </tr>\n",
       "  </tbody>\n",
       "</table>\n",
       "</div>"
      ],
      "text/plain": [
       "                                                text    sentiment\n",
       "0   Enjoying a beautiful day at the park!        ...   Positive  \n",
       "1   Traffic was terrible this morning.           ...   Negative  \n",
       "2   Just finished an amazing workout! 💪          ...   Positive  \n",
       "3   Excited about the upcoming weekend getaway!  ...   Positive  \n",
       "4   Trying out a new recipe for dinner tonight.  ...   Neutral   "
      ]
     },
     "execution_count": 3,
     "metadata": {},
     "output_type": "execute_result"
    }
   ],
   "source": [
    "# display the first 5 rows of your dataset so you can explore its content\n",
    "df.head()"
   ]
  },
  {
   "cell_type": "markdown",
   "metadata": {
    "id": "mTToaZ9WWXWk"
   },
   "source": [
    "### Cleaning the data"
   ]
  },
  {
   "cell_type": "markdown",
   "metadata": {
    "id": "EGX60Y3mWzSa"
   },
   "source": [
    "Remove duplicates and missing values from your dataset"
   ]
  },
  {
   "cell_type": "code",
   "execution_count": 4,
   "metadata": {
    "id": "2KK0kzUJW6GL"
   },
   "outputs": [
    {
     "data": {
      "text/plain": [
       "text         0\n",
       "sentiment    0\n",
       "dtype: int64"
      ]
     },
     "execution_count": 4,
     "metadata": {},
     "output_type": "execute_result"
    }
   ],
   "source": [
    "df['sentiment'] = df['sentiment'].str.strip()\n",
    "# check for missing values\n",
    "df.isnull().sum()"
   ]
  },
  {
   "cell_type": "code",
   "execution_count": 5,
   "metadata": {
    "id": "WXVHVMnDW-Ua"
   },
   "outputs": [],
   "source": [
    "# drop missing values\n",
    "df.dropna(inplace=True)\n",
    "\n",
    "# or\n",
    "\n",
    "if df.isnull().sum().any():\n",
    "    df = df.dropna()"
   ]
  },
  {
   "cell_type": "code",
   "execution_count": 6,
   "metadata": {
    "id": "cxzweFphXBE5"
   },
   "outputs": [
    {
     "data": {
      "text/plain": [
       "25"
      ]
     },
     "execution_count": 6,
     "metadata": {},
     "output_type": "execute_result"
    }
   ],
   "source": [
    "# check for duplicates\n",
    "df.duplicated().sum()"
   ]
  },
  {
   "cell_type": "code",
   "execution_count": 7,
   "metadata": {
    "id": "N_mIdKR9XENn"
   },
   "outputs": [],
   "source": [
    "# drop duplicates\n",
    "df.drop_duplicates(inplace=True)"
   ]
  },
  {
   "cell_type": "markdown",
   "metadata": {
    "id": "IeOgdKiqWB8E"
   },
   "source": [
    "### Splitting the data"
   ]
  },
  {
   "cell_type": "markdown",
   "metadata": {
    "id": "UBbiZa8nWIPE"
   },
   "source": [
    "Split your dataset into train (80%), validation (10%) and test (10%) sets"
   ]
  },
  {
   "cell_type": "code",
   "execution_count": 8,
   "metadata": {
    "id": "ikt_b7wxWP-P"
   },
   "outputs": [],
   "source": [
    "# import libraries\n",
    "import numpy as np\n",
    "import sklearn\n",
    "from sklearn.model_selection import train_test_split\n",
    "from sklearn.preprocessing import LabelEncoder"
   ]
  },
  {
   "cell_type": "code",
   "execution_count": 9,
   "metadata": {
    "id": "2amSQIinWRym"
   },
   "outputs": [],
   "source": [
    "# split the data\n",
    "label_encoder = LabelEncoder()\n",
    "text = df['text']\n",
    "sentiment = df['sentiment']\n",
    "encoded_sentiment = label_encoder.fit_transform(sentiment)\n",
    "train_df, X_remaining, y_train, y_remaining = train_test_split(text, encoded_sentiment, train_size=0.8, random_state=3)\n",
    "test_df, val_df, y_test, y_val = train_test_split(X_remaining, y_remaining, train_size=0.5, random_state=3)"
   ]
  },
  {
   "cell_type": "markdown",
   "metadata": {
    "id": "StQdiBQiXjbJ"
   },
   "source": [
    "### Pre-processing the data"
   ]
  },
  {
   "cell_type": "markdown",
   "metadata": {
    "id": "tBxC2fKLDL1e"
   },
   "source": [
    " Pre-process your data by converting all characters to lowercase, removing stop words and performing stemming"
   ]
  },
  {
   "cell_type": "code",
   "execution_count": 10,
   "metadata": {
    "id": "tSfgLxPXDL1e"
   },
   "outputs": [
    {
     "name": "stdout",
     "output_type": "stream",
     "text": [
      "Requirement already satisfied: nltk in c:\\users\\osama\\appdata\\local\\programs\\python\\python310\\lib\\site-packages (3.8.1)\n",
      "Requirement already satisfied: regex>=2021.8.3 in c:\\users\\osama\\appdata\\local\\programs\\python\\python310\\lib\\site-packages (from nltk) (2022.10.31)\n",
      "Requirement already satisfied: click in c:\\users\\osama\\appdata\\local\\programs\\python\\python310\\lib\\site-packages (from nltk) (8.1.3)\n",
      "Requirement already satisfied: joblib in c:\\users\\osama\\appdata\\local\\programs\\python\\python310\\lib\\site-packages (from nltk) (1.2.0)\n",
      "Requirement already satisfied: tqdm in c:\\users\\osama\\appdata\\local\\programs\\python\\python310\\lib\\site-packages (from nltk) (4.64.1)\n",
      "Requirement already satisfied: colorama in c:\\users\\osama\\appdata\\local\\programs\\python\\python310\\lib\\site-packages (from click->nltk) (0.4.4)\n",
      "\n",
      "[notice] A new release of pip available: 22.1.2 -> 24.0\n",
      "[notice] To update, run: python.exe -m pip install --upgrade pip\n"
     ]
    }
   ],
   "source": [
    "# import libraries\n",
    "!pip install nltk\n",
    "import nltk"
   ]
  },
  {
   "cell_type": "code",
   "execution_count": 11,
   "metadata": {
    "id": "DuNUr_EJDL1f"
   },
   "outputs": [
    {
     "name": "stderr",
     "output_type": "stream",
     "text": [
      "[nltk_data] Downloading package stopwords to\n",
      "[nltk_data]     C:\\Users\\osama\\AppData\\Roaming\\nltk_data...\n",
      "[nltk_data]   Package stopwords is already up-to-date!\n"
     ]
    }
   ],
   "source": [
    "# pre-process the data\n",
    "nltk.download('stopwords')\n",
    "stop_words = set(stopwords.words('english'))\n",
    "stemmer = PorterStemmer()\n",
    "\n",
    "def preprocess_text(text):\n",
    "    text = text.lower()  # Convert to lowercase\n",
    "    text = re.sub(r'\\W', ' ', text)  # Remove all non-word characters\n",
    "    text = ' '.join([stemmer.stem(word) for word in text.split() if word not in stop_words])\n",
    "    return text\n",
    "\n",
    "train_df = train_df.apply(preprocess_text)\n",
    "val_df = val_df.apply(preprocess_text)\n",
    "test_df = test_df.apply(preprocess_text)"
   ]
  },
  {
   "cell_type": "markdown",
   "metadata": {
    "id": "nBudMp-zDL1f"
   },
   "source": [
    "### Representing the data using TF-IDF"
   ]
  },
  {
   "cell_type": "markdown",
   "metadata": {
    "id": "jgn2eY3VXlpR"
   },
   "source": [
    "Transform your pre-processed data into tf-idf vectors using the **TfidfVectorizer** of the **sklearn** library. *Note:* You should first transform the training data into TF-IDF vectors, and then when transforming the validation and test data, you should make sure that the IDF scores for test instances are deduced from the training data to avoid data leakage."
   ]
  },
  {
   "cell_type": "code",
   "execution_count": 12,
   "metadata": {
    "id": "HHbc5Pk5ZUhm"
   },
   "outputs": [],
   "source": [
    "# import libraries\n",
    "from sklearn.feature_extraction.text import TfidfVectorizer"
   ]
  },
  {
   "cell_type": "code",
   "execution_count": 13,
   "metadata": {
    "id": "EixI2HTCZahB"
   },
   "outputs": [],
   "source": [
    "# transform the text column of the training data into TF-IDF vectors\n",
    "vectorizer = TfidfVectorizer()\n",
    "X_train = vectorizer.fit_transform(train_df)"
   ]
  },
  {
   "cell_type": "code",
   "execution_count": 14,
   "metadata": {
    "id": "0PbrsBfdaVPI"
   },
   "outputs": [],
   "source": [
    "# transform the text column of the validation data into TF-IDF vectors\n",
    "X_val = vectorizer.transform(val_df)"
   ]
  },
  {
   "cell_type": "code",
   "execution_count": 15,
   "metadata": {
    "id": "Xj0Z04u8aV2_"
   },
   "outputs": [],
   "source": [
    "# transform the text column of the test data into TF-IDF vectors\n",
    "X_test = vectorizer.transform(test_df)"
   ]
  },
  {
   "cell_type": "markdown",
   "metadata": {
    "id": "_7e70o39x6h4"
   },
   "source": [
    "### Training a classifier\n",
    "\n",
    "Train a multi-class logistic regression model to predict the sentiment of statements into either negative, positive or neutral.You should use the **\"sentiment\"** column as the target variable and all the remaining **TF-IDF features**' columns created above as independent variables.\n"
   ]
  },
  {
   "cell_type": "code",
   "execution_count": 16,
   "metadata": {
    "id": "f2VvRdAQ1KRv"
   },
   "outputs": [],
   "source": [
    "# import libraries\n",
    "from sklearn.linear_model import LogisticRegression\n",
    "import matplotlib.pyplot as plt\n",
    "from sklearn.model_selection import learning_curve"
   ]
  },
  {
   "cell_type": "code",
   "execution_count": 17,
   "metadata": {
    "id": "gRxtNID-bkY3"
   },
   "outputs": [
    {
     "data": {
      "text/html": [
       "<style>#sk-container-id-1 {color: black;}#sk-container-id-1 pre{padding: 0;}#sk-container-id-1 div.sk-toggleable {background-color: white;}#sk-container-id-1 label.sk-toggleable__label {cursor: pointer;display: block;width: 100%;margin-bottom: 0;padding: 0.3em;box-sizing: border-box;text-align: center;}#sk-container-id-1 label.sk-toggleable__label-arrow:before {content: \"▸\";float: left;margin-right: 0.25em;color: #696969;}#sk-container-id-1 label.sk-toggleable__label-arrow:hover:before {color: black;}#sk-container-id-1 div.sk-estimator:hover label.sk-toggleable__label-arrow:before {color: black;}#sk-container-id-1 div.sk-toggleable__content {max-height: 0;max-width: 0;overflow: hidden;text-align: left;background-color: #f0f8ff;}#sk-container-id-1 div.sk-toggleable__content pre {margin: 0.2em;color: black;border-radius: 0.25em;background-color: #f0f8ff;}#sk-container-id-1 input.sk-toggleable__control:checked~div.sk-toggleable__content {max-height: 200px;max-width: 100%;overflow: auto;}#sk-container-id-1 input.sk-toggleable__control:checked~label.sk-toggleable__label-arrow:before {content: \"▾\";}#sk-container-id-1 div.sk-estimator input.sk-toggleable__control:checked~label.sk-toggleable__label {background-color: #d4ebff;}#sk-container-id-1 div.sk-label input.sk-toggleable__control:checked~label.sk-toggleable__label {background-color: #d4ebff;}#sk-container-id-1 input.sk-hidden--visually {border: 0;clip: rect(1px 1px 1px 1px);clip: rect(1px, 1px, 1px, 1px);height: 1px;margin: -1px;overflow: hidden;padding: 0;position: absolute;width: 1px;}#sk-container-id-1 div.sk-estimator {font-family: monospace;background-color: #f0f8ff;border: 1px dotted black;border-radius: 0.25em;box-sizing: border-box;margin-bottom: 0.5em;}#sk-container-id-1 div.sk-estimator:hover {background-color: #d4ebff;}#sk-container-id-1 div.sk-parallel-item::after {content: \"\";width: 100%;border-bottom: 1px solid gray;flex-grow: 1;}#sk-container-id-1 div.sk-label:hover label.sk-toggleable__label {background-color: #d4ebff;}#sk-container-id-1 div.sk-serial::before {content: \"\";position: absolute;border-left: 1px solid gray;box-sizing: border-box;top: 0;bottom: 0;left: 50%;z-index: 0;}#sk-container-id-1 div.sk-serial {display: flex;flex-direction: column;align-items: center;background-color: white;padding-right: 0.2em;padding-left: 0.2em;position: relative;}#sk-container-id-1 div.sk-item {position: relative;z-index: 1;}#sk-container-id-1 div.sk-parallel {display: flex;align-items: stretch;justify-content: center;background-color: white;position: relative;}#sk-container-id-1 div.sk-item::before, #sk-container-id-1 div.sk-parallel-item::before {content: \"\";position: absolute;border-left: 1px solid gray;box-sizing: border-box;top: 0;bottom: 0;left: 50%;z-index: -1;}#sk-container-id-1 div.sk-parallel-item {display: flex;flex-direction: column;z-index: 1;position: relative;background-color: white;}#sk-container-id-1 div.sk-parallel-item:first-child::after {align-self: flex-end;width: 50%;}#sk-container-id-1 div.sk-parallel-item:last-child::after {align-self: flex-start;width: 50%;}#sk-container-id-1 div.sk-parallel-item:only-child::after {width: 0;}#sk-container-id-1 div.sk-dashed-wrapped {border: 1px dashed gray;margin: 0 0.4em 0.5em 0.4em;box-sizing: border-box;padding-bottom: 0.4em;background-color: white;}#sk-container-id-1 div.sk-label label {font-family: monospace;font-weight: bold;display: inline-block;line-height: 1.2em;}#sk-container-id-1 div.sk-label-container {text-align: center;}#sk-container-id-1 div.sk-container {/* jupyter's `normalize.less` sets `[hidden] { display: none; }` but bootstrap.min.css set `[hidden] { display: none !important; }` so we also need the `!important` here to be able to override the default hidden behavior on the sphinx rendered scikit-learn.org. See: https://github.com/scikit-learn/scikit-learn/issues/21755 */display: inline-block !important;position: relative;}#sk-container-id-1 div.sk-text-repr-fallback {display: none;}</style><div id=\"sk-container-id-1\" class=\"sk-top-container\"><div class=\"sk-text-repr-fallback\"><pre>LogisticRegression(max_iter=1000)</pre><b>In a Jupyter environment, please rerun this cell to show the HTML representation or trust the notebook. <br />On GitHub, the HTML representation is unable to render, please try loading this page with nbviewer.org.</b></div><div class=\"sk-container\" hidden><div class=\"sk-item\"><div class=\"sk-estimator sk-toggleable\"><input class=\"sk-toggleable__control sk-hidden--visually\" id=\"sk-estimator-id-1\" type=\"checkbox\" checked><label for=\"sk-estimator-id-1\" class=\"sk-toggleable__label sk-toggleable__label-arrow\">LogisticRegression</label><div class=\"sk-toggleable__content\"><pre>LogisticRegression(max_iter=1000)</pre></div></div></div></div></div>"
      ],
      "text/plain": [
       "LogisticRegression(max_iter=1000)"
      ]
     },
     "execution_count": 17,
     "metadata": {},
     "output_type": "execute_result"
    }
   ],
   "source": [
    "# train the logistic regression model\n",
    "lr = LogisticRegression(max_iter=1000)\n",
    "lr.fit(X_train, y_train)"
   ]
  },
  {
   "cell_type": "code",
   "execution_count": 18,
   "metadata": {
    "id": "qZuuAIgab9C_"
   },
   "outputs": [
    {
     "name": "stdout",
     "output_type": "stream",
     "text": [
      "Validation Accuracy: 0.8028169014084507\n"
     ]
    }
   ],
   "source": [
    "# report the accuracy of the model\n",
    "val_accuracy = lr.score(X_val, y_val)\n",
    "print(f'Validation Accuracy: {val_accuracy}')"
   ]
  },
  {
   "cell_type": "code",
   "execution_count": 19,
   "metadata": {
    "id": "6GPyac1FcExk"
   },
   "outputs": [
    {
     "data": {
      "image/png": "[encoded data removed]",
      "text/plain": [
       "<Figure size 640x480 with 1 Axes>"
      ]
     },
     "metadata": {},
     "output_type": "display_data"
    }
   ],
   "source": [
    "#learning curve of the model to examine bias and variance based on Scores\n",
    "train_sizes, train_scores, val_scores = learning_curve(lr, X_train, y_train, cv=5, n_jobs=-1, \n",
    "                                                       train_sizes=np.linspace(0.1, 1.0, 10), verbose=0)\n",
    "train_mean = np.mean(train_scores, axis=1)\n",
    "val_mean = np.mean(val_scores, axis=1)\n",
    "plt.plot(train_sizes, train_mean, label='Training score')\n",
    "plt.plot(train_sizes, val_mean, label='Cross-validation score')\n",
    "plt.title('Learning curve')\n",
    "plt.xlabel('Training Size')\n",
    "plt.ylabel('Score')\n",
    "plt.legend()\n",
    "plt.show()"
   ]
  },
  {
   "cell_type": "code",
   "execution_count": 20,
   "metadata": {},
   "outputs": [
    {
     "data": {
      "image/png": "[encoded data removed]",
      "text/plain": [
       "<Figure size 1000x600 with 1 Axes>"
      ]
     },
     "metadata": {},
     "output_type": "display_data"
    }
   ],
   "source": [
    "#Learning Curve based on Errors\n",
    "\n",
    "train_errors, val_errors = [], []\n",
    "train_sizes = (X_train.shape[0] * np.linspace(0.1, 1.0, 10)).astype(int)\n",
    "\n",
    "for size in train_sizes:\n",
    "    X_subset, y_subset = X_train[:size], y_train[:size]\n",
    "    lr.fit(X_subset, y_subset)\n",
    "    \n",
    "    # Calculating errors instead of scores\n",
    "    train_error = 1 - lr.score(X_subset, y_subset)  # Training error\n",
    "    val_error = 1 - lr.score(X_val, y_val)  # Validation error\n",
    "    \n",
    "    train_errors.append(train_error)\n",
    "    val_errors.append(val_error)\n",
    "\n",
    "plt.figure(figsize=(10, 6))\n",
    "plt.plot(train_sizes, train_errors, 'o-', color=\"r\", label=\"Training error\")\n",
    "plt.plot(train_sizes, val_errors, 'o-', color=\"g\", label=\"Cross-validation error\")\n",
    "plt.title(\"Learning Curve\")\n",
    "plt.xlabel(\"Training Set Size\")\n",
    "plt.ylabel(\"Error Rate\")\n",
    "plt.legend(loc=\"best\")\n",
    "plt.grid(True)\n",
    "plt.show()"
   ]
  },
  {
   "cell_type": "markdown",
   "metadata": {
    "id": "8VZav6hqcaEw"
   },
   "source": [
    "Does your model suffer from overfitting (high variance) or underfitting (high bias) or neither and why?"
   ]
  },
  {
   "cell_type": "markdown",
   "metadata": {
    "id": "vMc9WO4DDL1g"
   },
   "source": [
    "Answer: Neither but there seems to be some higher variance than usual (overfitting). The presence of a gap between the training score / error and the cross-validation score /error suggests that the model is experiencing some degree of variance, but since the cross-validation score is improving and the gap appears to be narrowing, it may not be considered that much of a high variance. The model doesn't seem to be suffering from high bias either, as the training score is high, (i.e., the model has a good fit on the training data)."
   ]
  },
  {
   "cell_type": "markdown",
   "metadata": {
    "id": "rrfFy74pDL1g"
   },
   "source": [
    "### Hyperparameter tuning"
   ]
  },
  {
   "cell_type": "markdown",
   "metadata": {
    "id": "1lLPA2wNcc8e"
   },
   "source": [
    "Use the **GridSearchCV** module of the **sklearn** library to tune the hyperparameter of your logistic regression model on the validation set. You should try to tune as many hyperparameters as you can, such as regularization, learning rate, solver, number of iterations, etc. Your tuning should be guided by the observations you made from the learning curve of the untuned model.   "
   ]
  },
  {
   "cell_type": "code",
   "execution_count": 21,
   "metadata": {
    "id": "FzGhn8kWcyUf"
   },
   "outputs": [],
   "source": [
    "# import libraries\n",
    "from sklearn.model_selection import GridSearchCV"
   ]
  },
  {
   "cell_type": "code",
   "execution_count": 22,
   "metadata": {
    "id": "AqX6sJ3Vc2gX"
   },
   "outputs": [
    {
     "name": "stdout",
     "output_type": "stream",
     "text": [
      "GridSearchCV(cv=5, estimator=LogisticRegression(max_iter=1000),\n",
      "             param_grid={'C': [0.1, 1, 10, 100],\n",
      "                         'solver': ['newton-cg', 'lbfgs', 'liblinear']})\n"
     ]
    }
   ],
   "source": [
    "# use gridsearch to find the best combination of hyperparameters\n",
    "param_grid = {'C': [0.1, 1, 10, 100], 'solver': ['newton-cg', 'lbfgs', 'liblinear']}\n",
    "grid = GridSearchCV(LogisticRegression(max_iter=1000), param_grid, cv=5)\n",
    "grid.fit(X_val, y_val)\n",
    "\n",
    "print(grid)"
   ]
  },
  {
   "cell_type": "code",
   "execution_count": 23,
   "metadata": {},
   "outputs": [
    {
     "name": "stdout",
     "output_type": "stream",
     "text": [
      "Fitting 5 folds for each of 80 candidates, totalling 400 fits\n",
      "Best parameters: {'C': 1438.44988828766, 'penalty': 'l2', 'solver': 'saga'}\n",
      "Best score on validation set: 0.8053097345132743\n"
     ]
    },
    {
     "name": "stderr",
     "output_type": "stream",
     "text": [
      "C:\\Users\\osama\\AppData\\Local\\Programs\\Python\\Python310\\lib\\site-packages\\sklearn\\linear_model\\_sag.py:350: ConvergenceWarning: The max_iter was reached which means the coef_ did not converge\n",
      "  warnings.warn(\n"
     ]
    }
   ],
   "source": [
    "from sklearn.linear_model import LogisticRegression\n",
    "from sklearn.model_selection import GridSearchCV\n",
    "import numpy as np\n",
    "\n",
    "lr = LogisticRegression(max_iter=1000)\n",
    "\n",
    "param_grid = {\n",
    "    'penalty': ['l1', 'l2'],\n",
    "    'C': np.logspace(-4, 4, 20),\n",
    "    'solver': ['liblinear', 'saga']\n",
    "}\n",
    "\n",
    "grid_search = GridSearchCV(lr, param_grid, cv=5, scoring='accuracy', verbose=1, n_jobs=-1)\n",
    "\n",
    "# Fit the grid search to the training data\n",
    "grid_search.fit(X_train, y_train)\n",
    "\n",
    "best_params = grid_search.best_params_\n",
    "best_score = grid_search.best_score_\n",
    "best_model = grid_search.best_estimator_\n",
    "\n",
    "print(\"Best parameters:\", best_params)\n",
    "print(\"Best score on validation set:\", best_score)"
   ]
  },
  {
   "cell_type": "markdown",
   "metadata": {
    "id": "li_0cP5vd1B1"
   },
   "source": [
    "### Model Selection and Testing"
   ]
  },
  {
   "cell_type": "markdown",
   "metadata": {
    "id": "auM-Qpd1d5JD"
   },
   "source": [
    "Choose the best model with the best hyperparameters based on the validation set and test on the test data using accuracy, precision, recall, and F1-score. Display all these evaluation metrics as well as the confusion matrix of the best model."
   ]
  },
  {
   "cell_type": "code",
   "execution_count": 24,
   "metadata": {
    "id": "jAwn9ug8OkRO"
   },
   "outputs": [],
   "source": [
    "# import libraries\n",
    "from sklearn import metrics\n",
    "from sklearn.metrics import accuracy_score, f1_score, precision_score, recall_score"
   ]
  },
  {
   "cell_type": "code",
   "execution_count": 25,
   "metadata": {
    "id": "cyrNGL-OdACV"
   },
   "outputs": [],
   "source": [
    "# validate the accuracy\n",
    "test_pred = best_model.predict(X_test)\n",
    "test_accuracy = accuracy_score(y_test, test_pred)\n",
    "precision = precision_score(y_test, test_pred, average='weighted')\n",
    "recall = recall_score(y_test, test_pred, average='weighted')\n",
    "f1 = f1_score(y_test, test_pred, average='weighted')\n",
    "conf_matrix = confusion_matrix(y_test, test_pred)"
   ]
  },
  {
   "cell_type": "code",
   "execution_count": 26,
   "metadata": {},
   "outputs": [
    {
     "name": "stdout",
     "output_type": "stream",
     "text": [
      "Test Accuracy: 0.8873239436619719\n",
      "Precision: 0.8895450625832919\n",
      "Recall: 0.8873239436619719\n",
      "F1 Score: 0.8834014841738603\n",
      "Confusion Matrix:\n",
      "[[10  1  3]\n",
      " [ 0 10  3]\n",
      " [ 1  0 43]]\n"
     ]
    }
   ],
   "source": [
    "# Display metrics\n",
    "print(f'Test Accuracy: {test_accuracy}')\n",
    "print(f'Precision: {precision}')\n",
    "print(f'Recall: {recall}')\n",
    "print(f'F1 Score: {f1}')\n",
    "print(f'Confusion Matrix:\\n{conf_matrix}')"
   ]
  }
 ],
 "metadata": {
  "colab": {
   "provenance": []
  },
  "kernelspec": {
   "display_name": "Python 3 (ipykernel)",
   "language": "python",
   "name": "python3"
  },
  "language_info": {
   "codemirror_mode": {
    "name": "ipython",
    "version": 3
   },
   "file_extension": ".py",
   "mimetype": "text/x-python",
   "name": "python",
   "nbconvert_exporter": "python",
   "pygments_lexer": "ipython3",
   "version": "3.10.5"
  }
 },
 "nbformat": 4,
 "nbformat_minor": 1
}
